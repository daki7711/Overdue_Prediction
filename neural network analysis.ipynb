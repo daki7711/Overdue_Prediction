{
 "cells": [
  {
   "cell_type": "code",
   "execution_count": 1,
   "metadata": {},
   "outputs": [],
   "source": [
    "import tensorflow as tf\n",
    "import pandas as pd\n",
    "import numpy as np\n",
    "import matplotlib.pyplot as plt\n",
    "\n",
    "from sklearn.datasets import make_classification\n",
    "from sklearn.decomposition import PCA\n",
    "from imblearn.over_sampling import SMOTE"
   ]
  },
  {
   "cell_type": "code",
   "execution_count": 2,
   "metadata": {},
   "outputs": [],
   "source": [
    "data=pd.read_csv('상장비상장(2008_2013).csv',header=None,skiprows=1)"
   ]
  },
  {
   "cell_type": "code",
   "execution_count": 3,
   "metadata": {},
   "outputs": [
    {
     "data": {
      "text/html": [
       "<div>\n",
       "<style scoped>\n",
       "    .dataframe tbody tr th:only-of-type {\n",
       "        vertical-align: middle;\n",
       "    }\n",
       "\n",
       "    .dataframe tbody tr th {\n",
       "        vertical-align: top;\n",
       "    }\n",
       "\n",
       "    .dataframe thead th {\n",
       "        text-align: right;\n",
       "    }\n",
       "</style>\n",
       "<table border=\"1\" class=\"dataframe\">\n",
       "  <thead>\n",
       "    <tr style=\"text-align: right;\">\n",
       "      <th></th>\n",
       "      <th>0</th>\n",
       "      <th>1</th>\n",
       "      <th>2</th>\n",
       "      <th>3</th>\n",
       "      <th>4</th>\n",
       "      <th>5</th>\n",
       "      <th>6</th>\n",
       "      <th>7</th>\n",
       "      <th>8</th>\n",
       "      <th>9</th>\n",
       "      <th>...</th>\n",
       "      <th>28</th>\n",
       "      <th>29</th>\n",
       "      <th>30</th>\n",
       "      <th>31</th>\n",
       "      <th>32</th>\n",
       "      <th>33</th>\n",
       "      <th>34</th>\n",
       "      <th>35</th>\n",
       "      <th>36</th>\n",
       "      <th>37</th>\n",
       "    </tr>\n",
       "  </thead>\n",
       "  <tbody>\n",
       "    <tr>\n",
       "      <th>0</th>\n",
       "      <td>0</td>\n",
       "      <td>2008.0</td>\n",
       "      <td>0.0</td>\n",
       "      <td>1.0</td>\n",
       "      <td>1.0</td>\n",
       "      <td>1.0</td>\n",
       "      <td>0.0</td>\n",
       "      <td>0.0</td>\n",
       "      <td>0.0</td>\n",
       "      <td>0.0</td>\n",
       "      <td>...</td>\n",
       "      <td>-11.65</td>\n",
       "      <td>20.34</td>\n",
       "      <td>-30.27</td>\n",
       "      <td>-21.90</td>\n",
       "      <td>8.00</td>\n",
       "      <td>139.78</td>\n",
       "      <td>10.45</td>\n",
       "      <td>56.11</td>\n",
       "      <td>0.95</td>\n",
       "      <td>1.0</td>\n",
       "    </tr>\n",
       "    <tr>\n",
       "      <th>1</th>\n",
       "      <td>1</td>\n",
       "      <td>2008.0</td>\n",
       "      <td>0.0</td>\n",
       "      <td>1.0</td>\n",
       "      <td>1.0</td>\n",
       "      <td>1.0</td>\n",
       "      <td>0.0</td>\n",
       "      <td>0.0</td>\n",
       "      <td>0.0</td>\n",
       "      <td>0.0</td>\n",
       "      <td>...</td>\n",
       "      <td>-14.83</td>\n",
       "      <td>73.84</td>\n",
       "      <td>-97.78</td>\n",
       "      <td>-21.95</td>\n",
       "      <td>1.58</td>\n",
       "      <td>9.40</td>\n",
       "      <td>1.91</td>\n",
       "      <td>33.43</td>\n",
       "      <td>1.06</td>\n",
       "      <td>1.0</td>\n",
       "    </tr>\n",
       "    <tr>\n",
       "      <th>2</th>\n",
       "      <td>2</td>\n",
       "      <td>2008.0</td>\n",
       "      <td>1.0</td>\n",
       "      <td>1.0</td>\n",
       "      <td>0.0</td>\n",
       "      <td>1.0</td>\n",
       "      <td>0.0</td>\n",
       "      <td>0.0</td>\n",
       "      <td>0.0</td>\n",
       "      <td>0.0</td>\n",
       "      <td>...</td>\n",
       "      <td>-4.54</td>\n",
       "      <td>76.52</td>\n",
       "      <td>7.41</td>\n",
       "      <td>1.27</td>\n",
       "      <td>7.95</td>\n",
       "      <td>71.48</td>\n",
       "      <td>2.81</td>\n",
       "      <td>27.10</td>\n",
       "      <td>5.53</td>\n",
       "      <td>1.0</td>\n",
       "    </tr>\n",
       "    <tr>\n",
       "      <th>3</th>\n",
       "      <td>3</td>\n",
       "      <td>2008.0</td>\n",
       "      <td>0.0</td>\n",
       "      <td>1.0</td>\n",
       "      <td>0.0</td>\n",
       "      <td>1.0</td>\n",
       "      <td>0.0</td>\n",
       "      <td>0.0</td>\n",
       "      <td>0.0</td>\n",
       "      <td>0.0</td>\n",
       "      <td>...</td>\n",
       "      <td>-1.66</td>\n",
       "      <td>-6.21</td>\n",
       "      <td>-1.56</td>\n",
       "      <td>5.31</td>\n",
       "      <td>9.83</td>\n",
       "      <td>-481.27</td>\n",
       "      <td>-31.27</td>\n",
       "      <td>9.51</td>\n",
       "      <td>2.95</td>\n",
       "      <td>1.0</td>\n",
       "    </tr>\n",
       "    <tr>\n",
       "      <th>4</th>\n",
       "      <td>4</td>\n",
       "      <td>2008.0</td>\n",
       "      <td>0.0</td>\n",
       "      <td>1.0</td>\n",
       "      <td>0.0</td>\n",
       "      <td>1.0</td>\n",
       "      <td>0.0</td>\n",
       "      <td>0.0</td>\n",
       "      <td>0.0</td>\n",
       "      <td>0.0</td>\n",
       "      <td>...</td>\n",
       "      <td>6.50</td>\n",
       "      <td>57.73</td>\n",
       "      <td>93.40</td>\n",
       "      <td>161.09</td>\n",
       "      <td>26.41</td>\n",
       "      <td>380.09</td>\n",
       "      <td>10.21</td>\n",
       "      <td>36.98</td>\n",
       "      <td>6.16</td>\n",
       "      <td>1.0</td>\n",
       "    </tr>\n",
       "  </tbody>\n",
       "</table>\n",
       "<p>5 rows × 38 columns</p>\n",
       "</div>"
      ],
      "text/plain": [
       "   0       1    2    3    4    5    6    7    8    9   ...     28     29  \\\n",
       "0   0  2008.0  0.0  1.0  1.0  1.0  0.0  0.0  0.0  0.0  ... -11.65  20.34   \n",
       "1   1  2008.0  0.0  1.0  1.0  1.0  0.0  0.0  0.0  0.0  ... -14.83  73.84   \n",
       "2   2  2008.0  1.0  1.0  0.0  1.0  0.0  0.0  0.0  0.0  ...  -4.54  76.52   \n",
       "3   3  2008.0  0.0  1.0  0.0  1.0  0.0  0.0  0.0  0.0  ...  -1.66  -6.21   \n",
       "4   4  2008.0  0.0  1.0  0.0  1.0  0.0  0.0  0.0  0.0  ...   6.50  57.73   \n",
       "\n",
       "      30      31     32      33     34     35    36   37  \n",
       "0 -30.27  -21.90   8.00  139.78  10.45  56.11  0.95  1.0  \n",
       "1 -97.78  -21.95   1.58    9.40   1.91  33.43  1.06  1.0  \n",
       "2   7.41    1.27   7.95   71.48   2.81  27.10  5.53  1.0  \n",
       "3  -1.56    5.31   9.83 -481.27 -31.27   9.51  2.95  1.0  \n",
       "4  93.40  161.09  26.41  380.09  10.21  36.98  6.16  1.0  \n",
       "\n",
       "[5 rows x 38 columns]"
      ]
     },
     "execution_count": 3,
     "metadata": {},
     "output_type": "execute_result"
    }
   ],
   "source": [
    "data.head()"
   ]
  },
  {
   "cell_type": "code",
   "execution_count": 4,
   "metadata": {},
   "outputs": [
    {
     "data": {
      "text/plain": [
       "(6246, 38)"
      ]
     },
     "execution_count": 4,
     "metadata": {},
     "output_type": "execute_result"
    }
   ],
   "source": [
    "data.shape"
   ]
  },
  {
   "cell_type": "code",
   "execution_count": 5,
   "metadata": {},
   "outputs": [],
   "source": [
    "input = data.iloc[:,2:37].values\n",
    "output = data.iloc[:,[37]].values "
   ]
  },
  {
   "cell_type": "code",
   "execution_count": 6,
   "metadata": {},
   "outputs": [],
   "source": [
    "# We are controlling the seed to compare different models\n",
    "seed = 42\n",
    "tf.set_random_seed(seed)\n",
    "np.random.seed(seed)"
   ]
  },
  {
   "cell_type": "code",
   "execution_count": 7,
   "metadata": {},
   "outputs": [],
   "source": [
    "# For the training and validation sets we used 2008 to 2012 data as training sets and 2013 data as validation sets.\n",
    "# The reason for not doing it random is because we are interested in how the data we have can predict the future\n",
    "train_indices = []\n",
    "test_indices = []\n",
    "\n",
    "for index,element in data.iterrows():\n",
    "    if element[1] == 2013:\n",
    "        test_indices.append(index)\n",
    "    else:\n",
    "        train_indices.append(index)\n",
    "        \n",
    "train_indices=np.array(train_indices)\n",
    "train_indices=np.int_(train_indices)\n",
    "test_indices=np.array(test_indices)\n",
    "test_indices=np.int_(test_indices)\n",
    "\n",
    "input_train = input[train_indices]\n",
    "input_test = input[test_indices]\n",
    "output_train = output[train_indices]\n",
    "output_test = output[test_indices] "
   ]
  },
  {
   "cell_type": "code",
   "execution_count": 8,
   "metadata": {},
   "outputs": [],
   "source": [
    "from sklearn.preprocessing import StandardScaler\n",
    "scaler = StandardScaler()\n",
    "scaler.fit(input_train)\n",
    "input_train = scaler.transform(input_train)\n",
    "input_test = scaler.transform(input_test)"
   ]
  },
  {
   "cell_type": "code",
   "execution_count": 9,
   "metadata": {},
   "outputs": [
    {
     "name": "stdout",
     "output_type": "stream",
     "text": [
      "Before OverSampling, the shape of input_train: (5205, 35)\n",
      "Before OverSampling, the shape of output_train: (5205, 1) \n",
      "\n",
      "Before OverSampling, counts of label '1': [222]\n",
      "Before OverSampling, counts of label '0': [4983]\n"
     ]
    }
   ],
   "source": [
    "print('Before OverSampling, the shape of input_train: {}'.format(input_train.shape))\n",
    "print('Before OverSampling, the shape of output_train: {} \\n'.format(output_train.shape))\n",
    "\n",
    "print(\"Before OverSampling, counts of label '1': {}\".format(sum(output_train==1)))\n",
    "print(\"Before OverSampling, counts of label '0': {}\".format(sum(output_train==0)))"
   ]
  },
  {
   "cell_type": "code",
   "execution_count": 10,
   "metadata": {},
   "outputs": [
    {
     "name": "stderr",
     "output_type": "stream",
     "text": [
      "C:\\Users\\youngjae.kim\\AppData\\Local\\Continuum\\anaconda3\\lib\\site-packages\\sklearn\\utils\\validation.py:578: DataConversionWarning: A column-vector y was passed when a 1d array was expected. Please change the shape of y to (n_samples, ), for example using ravel().\n",
      "  y = column_or_1d(y, warn=True)\n"
     ]
    }
   ],
   "source": [
    "# In order to solve the data imbalance problem we used the oversampling method.\n",
    "sm = SMOTE(ratio='auto', kind='regular')\n",
    "input_train, output_train = sm.fit_sample(input_train,list(output_train))"
   ]
  },
  {
   "cell_type": "code",
   "execution_count": 11,
   "metadata": {},
   "outputs": [],
   "source": [
    "# The following are some under sampling methods\n",
    "\n",
    "#from imblearn.under_sampling import TomekLinks\n",
    "#tl = TomekLinks(return_indices=True, ratio='majority')\n",
    "#input_train, output_train, id_tl = tl.fit_sample(input_train, output_train)\n",
    "\n",
    "#from imblearn.under_sampling import ClusterCentroids\n",
    "#cc = ClusterCentroids(ratio={0: 300})\n",
    "#input_train, output_train = cc.fit_sample(input_train, output_train)"
   ]
  },
  {
   "cell_type": "code",
   "execution_count": 12,
   "metadata": {},
   "outputs": [
    {
     "name": "stdout",
     "output_type": "stream",
     "text": [
      "After OverSampling, the shape of input_train: (9966, 35)\n",
      "After OverSampling, the shape of output_train: (9966,) \n",
      "\n",
      "After OverSampling, counts of label '1': 4983\n",
      "After OverSampling, counts of label '0': 4983\n"
     ]
    }
   ],
   "source": [
    "print('After OverSampling, the shape of input_train: {}'.format(input_train.shape))\n",
    "print('After OverSampling, the shape of output_train: {} \\n'.format(output_train.shape))\n",
    "\n",
    "print(\"After OverSampling, counts of label '1': {}\".format(sum(output_train==1)))\n",
    "print(\"After OverSampling, counts of label '0': {}\".format(sum(output_train==0)))"
   ]
  },
  {
   "cell_type": "code",
   "execution_count": 13,
   "metadata": {},
   "outputs": [],
   "source": [
    "epoch_size= 1500\n",
    "batch_size= 2048\n",
    "hidden_size1=2\n",
    "hidden_size2=8\n",
    "result=1\n",
    "n=input_train[0].size\n",
    "m=output_train.shape[0]"
   ]
  },
  {
   "cell_type": "code",
   "execution_count": 14,
   "metadata": {},
   "outputs": [],
   "source": [
    "output_train = np.array(output_train).reshape(m,1)"
   ]
  },
  {
   "cell_type": "code",
   "execution_count": 15,
   "metadata": {},
   "outputs": [],
   "source": [
    "X = tf.placeholder(shape=[None, n], dtype=tf.float32)\n",
    "Y = tf.placeholder(shape=[None, 1], dtype=tf.float32)"
   ]
  },
  {
   "cell_type": "code",
   "execution_count": 16,
   "metadata": {},
   "outputs": [
    {
     "name": "stderr",
     "output_type": "stream",
     "text": [
      "WARNING: Logging before flag parsing goes to stderr.\n",
      "W0916 05:40:28.599570 10428 lazy_loader.py:50] \n",
      "The TensorFlow contrib module will not be included in TensorFlow 2.0.\n",
      "For more information, please see:\n",
      "  * https://github.com/tensorflow/community/blob/master/rfcs/20180907-contrib-sunset.md\n",
      "  * https://github.com/tensorflow/addons\n",
      "  * https://github.com/tensorflow/io (for I/O related ops)\n",
      "If you depend on functionality not listed there, please file an issue.\n",
      "\n"
     ]
    }
   ],
   "source": [
    "initializer = tf.contrib.layers.variance_scaling_initializer()\n",
    "\n",
    "w1 = tf.Variable(initializer(shape=[n, hidden_size1]))\n",
    "b1 = tf.Variable(initializer(shape=[hidden_size1]))\n",
    "#w2 = tf.Variable(initializer(shape=[hidden_size1,result]))\n",
    "#b2 = tf.Variable(initializer(shape=[result]))\n",
    "w2 = tf.Variable(initializer(shape=[hidden_size1,hidden_size2]))\n",
    "b2 = tf.Variable(initializer(shape=[hidden_size2]))\n",
    "w3 = tf.Variable(initializer(shape=[hidden_size2, result]))\n",
    "b3 = tf.Variable(initializer(shape=[result]))"
   ]
  },
  {
   "cell_type": "code",
   "execution_count": 17,
   "metadata": {},
   "outputs": [],
   "source": [
    "hidden1 = tf.nn.relu(tf.add(tf.matmul(X, w1), b1))\n",
    "hidden2 = tf.nn.relu(tf.add(tf.matmul(hidden1, w2), b2))\n",
    "#final = tf.add(tf.matmul(hidden1, w2), b2)\n",
    "final = tf.add(tf.matmul(hidden2, w3), b3)"
   ]
  },
  {
   "cell_type": "code",
   "execution_count": 18,
   "metadata": {},
   "outputs": [],
   "source": [
    "#since it is more important to find companies that has dept we set an extra weight on these companies\n",
    "loss = tf.reduce_mean(tf.nn.weighted_cross_entropy_with_logits(logits=final,labels=Y,pos_weight=1.4))\n",
    "global_step = tf.Variable(0, trainable=False)\n",
    "starter_learning_rate = 0.01\n",
    "learning_rate = tf.train.exponential_decay(starter_learning_rate, global_step,epoch_size, 0.99, staircase=True)\n",
    "train_step = (\n",
    "    tf.train.AdamOptimizer(learning_rate)\n",
    "    .minimize(loss, global_step=global_step)\n",
    ")"
   ]
  },
  {
   "cell_type": "code",
   "execution_count": 19,
   "metadata": {},
   "outputs": [],
   "source": [
    "prediction = tf.round(tf.sigmoid(final))\n",
    "correct = tf.cast(tf.equal(prediction, Y), dtype=tf.float32)\n",
    "accuracy = tf.reduce_mean(correct)"
   ]
  },
  {
   "cell_type": "code",
   "execution_count": 20,
   "metadata": {},
   "outputs": [],
   "source": [
    "sess=tf.Session()\n",
    "init = tf.global_variables_initializer()\n",
    "sess.run(init)"
   ]
  },
  {
   "cell_type": "code",
   "execution_count": 21,
   "metadata": {},
   "outputs": [
    {
     "name": "stdout",
     "output_type": "stream",
     "text": [
      "Generation: 100. Train Loss = 0.6200199. Test Loss = 0.94749624. Train Accuracy = 0.7373047. Test Accuracy = 0.73775214\n",
      "Generation: 200. Train Loss = 0.5867667. Test Loss = 1.1366392. Train Accuracy = 0.7504883. Test Accuracy = 0.7223823\n",
      "Generation: 300. Train Loss = 0.5413716. Test Loss = 1.602864. Train Accuracy = 0.77783203. Test Accuracy = 0.70989436\n",
      "Generation: 400. Train Loss = 0.5258043. Test Loss = 2.286514. Train Accuracy = 0.77441406. Test Accuracy = 0.7060519\n",
      "Generation: 500. Train Loss = 0.5062187. Test Loss = 2.814145. Train Accuracy = 0.7944336. Test Accuracy = 0.71757925\n",
      "Generation: 600. Train Loss = 0.50036657. Test Loss = 3.2006457. Train Accuracy = 0.7919922. Test Accuracy = 0.7012488\n",
      "Generation: 700. Train Loss = 0.49122703. Test Loss = 3.8137467. Train Accuracy = 0.7895508. Test Accuracy = 0.685879\n",
      "Generation: 800. Train Loss = 0.52316594. Test Loss = 4.304284. Train Accuracy = 0.7788086. Test Accuracy = 0.6820365\n",
      "Generation: 900. Train Loss = 0.49820358. Test Loss = 4.7798448. Train Accuracy = 0.7988281. Test Accuracy = 0.67819405\n",
      "Generation: 1000. Train Loss = 0.48848784. Test Loss = 5.3227057. Train Accuracy = 0.7919922. Test Accuracy = 0.685879\n",
      "Generation: 1100. Train Loss = 0.5067009. Test Loss = 5.560393. Train Accuracy = 0.79296875. Test Accuracy = 0.6753122\n",
      "Generation: 1200. Train Loss = 0.49606055. Test Loss = 5.419055. Train Accuracy = 0.79003906. Test Accuracy = 0.6810759\n",
      "Generation: 1300. Train Loss = 0.4886331. Test Loss = 4.9615755. Train Accuracy = 0.80126953. Test Accuracy = 0.685879\n",
      "Generation: 1400. Train Loss = 0.49130785. Test Loss = 4.407011. Train Accuracy = 0.8017578. Test Accuracy = 0.69068205\n",
      "Generation: 1500. Train Loss = 0.48591587. Test Loss = 4.4260416. Train Accuracy = 0.7998047. Test Accuracy = 0.673391\n",
      "Final Train Accuracy: 0.7998047\n",
      "Final Test Accuracy: 0.673391\n"
     ]
    }
   ],
   "source": [
    "train_loss = []\n",
    "test_loss = []\n",
    "train_accu= []\n",
    "test_accu=[]\n",
    "\n",
    "for i in range(epoch_size):\n",
    "    rand_index = np.random.choice(len(input_train), size=batch_size)\n",
    "    rand_x = input_train[rand_index]\n",
    "    rand_y = output_train[rand_index]\n",
    "    \n",
    "    sess.run(train_step, feed_dict={X: rand_x, Y: rand_y})\n",
    "    \n",
    "    loss1 = sess.run(loss, feed_dict={X: rand_x, Y: rand_y})\n",
    "    train_loss.append(loss1)\n",
    "    \n",
    "    accu1 = sess.run(accuracy, feed_dict={X: rand_x, Y: output_train[rand_index]})\n",
    "    train_accu.append(accu1)\n",
    "    \n",
    "    loss2 = sess.run(loss, feed_dict={X: input_test, Y: output_test})\n",
    "    test_loss.append(loss2)\n",
    "    \n",
    "    accu2 = sess.run(accuracy, feed_dict={X: input_test, Y: output_test})\n",
    "    test_accu.append(np.sqrt(accu2))\n",
    "    \n",
    "    if (i+1)%100==0:\n",
    "        print('Generation: ' + str(i+1) + '. Train Loss = ' + str(loss1)+ '. Test Loss = ' + str(loss2) + \n",
    "              '. Train Accuracy = ' + str(accu1) + '. Test Accuracy = ' + str(accu2))\n",
    "        \n",
    "print('Final Train Accuracy: ' + str(accu1))\n",
    "print('Final Test Accuracy: ' + str(accu2))  "
   ]
  },
  {
   "cell_type": "code",
   "execution_count": 22,
   "metadata": {},
   "outputs": [
    {
     "data": {
      "image/png": "[encoded data removed]",
      "text/plain": [
       "<Figure size 432x288 with 1 Axes>"
      ]
     },
     "metadata": {
      "needs_background": "light"
     },
     "output_type": "display_data"
    }
   ],
   "source": [
    "# The plot of the test accuracy goes down since instead of find the optimal accuracy point we are finding a model that can predict\n",
    "# Companies that will fail to cover their dept\n",
    "plt.plot(train_loss, 'k-', label='Train Loss')\n",
    "plt.plot(test_loss, 'r--', label='Test Loss')\n",
    "plt.title('Loss (MSE) per Generation')\n",
    "plt.xlabel('Generation')\n",
    "plt.ylabel('Loss')\n",
    "plt.legend(loc='upper right')\n",
    "plt.show()"
   ]
  },
  {
   "cell_type": "code",
   "execution_count": 23,
   "metadata": {},
   "outputs": [],
   "source": [
    "pred = sess.run(prediction, feed_dict={X: input})"
   ]
  },
  {
   "cell_type": "code",
   "execution_count": 24,
   "metadata": {},
   "outputs": [],
   "source": [
    "from sklearn.metrics import confusion_matrix\n",
    "from sklearn.metrics import classification_report\n",
    "from sklearn.metrics import precision_score\n",
    "from sklearn.metrics import recall_score"
   ]
  },
  {
   "cell_type": "code",
   "execution_count": 25,
   "metadata": {},
   "outputs": [],
   "source": [
    "target_names = ['false', 'true']"
   ]
  },
  {
   "cell_type": "code",
   "execution_count": 26,
   "metadata": {},
   "outputs": [
    {
     "name": "stdout",
     "output_type": "stream",
     "text": [
      "[[3467 1516]\n",
      " [ 460 4523]]\n",
      "             precision    recall  f1-score   support\n",
      "\n",
      "      false       0.88      0.70      0.78      4983\n",
      "       true       0.75      0.91      0.82      4983\n",
      "\n",
      "avg / total       0.82      0.80      0.80      9966\n",
      "\n"
     ]
    },
    {
     "data": {
      "text/plain": [
       "0.8017258679510335"
      ]
     },
     "execution_count": 26,
     "metadata": {},
     "output_type": "execute_result"
    }
   ],
   "source": [
    "pred_train = sess.run(prediction, feed_dict={X: input_train})\n",
    "print(confusion_matrix(output_train.flatten(), pred_train))\n",
    "print(classification_report(output_train.flatten(), pred_train, target_names=target_names))\n",
    "precision_score(output_train.flatten(), pred_train, average='micro',pos_label=1)\n",
    "recall_score(output_train.flatten(), pred_train, average='micro',pos_label=1)"
   ]
  },
  {
   "cell_type": "code",
   "execution_count": 27,
   "metadata": {},
   "outputs": [
    {
     "name": "stdout",
     "output_type": "stream",
     "text": [
      "[[661 331]\n",
      " [  9  40]]\n",
      "             precision    recall  f1-score   support\n",
      "\n",
      "      false       0.99      0.67      0.80       992\n",
      "       true       0.11      0.82      0.19        49\n",
      "\n",
      "avg / total       0.95      0.67      0.77      1041\n",
      "\n"
     ]
    },
    {
     "data": {
      "text/plain": [
       "0.6733909702209414"
      ]
     },
     "execution_count": 27,
     "metadata": {},
     "output_type": "execute_result"
    }
   ],
   "source": [
    "# The most value we are interested in is the value of recall for 'true' So for this cas 0.82 is the critical number\n",
    "# So in this case out of the 49 companies that become bankrupt 40 of them we were able to track down.\n",
    "pred_test = sess.run(prediction, feed_dict={X: input_test})\n",
    "print(confusion_matrix(output_test.flatten(), pred_test))\n",
    "print(classification_report(output_test.flatten(), pred_test, target_names=target_names))\n",
    "precision_score(output_test.flatten(), pred_test, average='micro',pos_label=1)\n",
    "recall_score(output_test.flatten(), pred_test, average='micro',pos_label=1)"
   ]
  },
  {
   "cell_type": "code",
   "execution_count": 28,
   "metadata": {},
   "outputs": [],
   "source": [
    "from sklearn import metrics\n",
    "import matplotlib.pyplot as plt "
   ]
  },
  {
   "cell_type": "code",
   "execution_count": 29,
   "metadata": {},
   "outputs": [],
   "source": [
    "pred_test = sess.run(final, feed_dict={X: input_test})"
   ]
  },
  {
   "cell_type": "code",
   "execution_count": 30,
   "metadata": {},
   "outputs": [],
   "source": [
    "fpr, tpr, thresholds = metrics.roc_curve(output_test, pred_test)\n",
    "roc_auc = metrics.auc(fpr, tpr)"
   ]
  },
  {
   "cell_type": "code",
   "execution_count": 31,
   "metadata": {},
   "outputs": [
    {
     "data": {
      "text/plain": [
       "<matplotlib.legend.Legend at 0x24e3bb48128>"
      ]
     },
     "execution_count": 31,
     "metadata": {},
     "output_type": "execute_result"
    },
    {
     "data": {
      "image/png": "[encoded data removed]",
      "text/plain": [
       "<Figure size 432x288 with 1 Axes>"
      ]
     },
     "metadata": {
      "needs_background": "light"
     },
     "output_type": "display_data"
    }
   ],
   "source": [
    "plt.plot(fpr, tpr, label='ROC curve (area = %0.3f)' % roc_auc)\n",
    "plt.plot([0, 1], [0, 1], 'k--')  # random predictions curve\n",
    "plt.xlim([0.0, 1.0])\n",
    "plt.ylim([0.0, 1.0])\n",
    "plt.xlabel('False Positive Rate or (1 - Specifity)')\n",
    "plt.ylabel('True Positive Rate or (Sensitivity)')\n",
    "plt.title('Receiver Operating Characteristic')\n",
    "plt.legend(loc=\"lower right\")"
   ]
  },
  {
   "cell_type": "code",
   "execution_count": 32,
   "metadata": {},
   "outputs": [],
   "source": [
    "hidden = sess.run(hidden1, feed_dict={X: input_train})"
   ]
  },
  {
   "cell_type": "code",
   "execution_count": 33,
   "metadata": {},
   "outputs": [
    {
     "data": {
      "image/png": "[encoded data removed]",
      "text/plain": [
       "<Figure size 432x288 with 1 Axes>"
      ]
     },
     "metadata": {
      "needs_background": "light"
     },
     "output_type": "display_data"
    }
   ],
   "source": [
    "from matplotlib import pyplot as plt\n",
    "\n",
    "scatter_x = hidden[:,0]\n",
    "scatter_y = hidden[:,1]\n",
    "group = output_train.flatten()\n",
    "cdict = {0:'blue',1:'red'}\n",
    "\n",
    "fig, ax = plt.subplots()\n",
    "for g in np.unique(group):\n",
    "    ix = np.where(group == g)\n",
    "    ax.scatter(scatter_x[ix], scatter_y[ix], c = cdict[g], label = g, s = 100)\n",
    "ax.legend()\n",
    "plt.show()"
   ]
  }
 ],
 "metadata": {
  "kernelspec": {
   "display_name": "Python 3",
   "language": "python",
   "name": "python3"
  },
  "language_info": {
   "codemirror_mode": {
    "name": "ipython",
    "version": 3
   },
   "file_extension": ".py",
   "mimetype": "text/x-python",
   "name": "python",
   "nbconvert_exporter": "python",
   "pygments_lexer": "ipython3",
   "version": "3.7.3"
  }
 },
 "nbformat": 4,
 "nbformat_minor": 2
}
